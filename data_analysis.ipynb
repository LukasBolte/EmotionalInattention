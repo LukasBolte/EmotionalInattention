{
 "cells": [
  {
   "cell_type": "markdown",
   "metadata": {},
   "source": [
    "# Analysis of \"Experiments on Emotional Inattention\"\n"
   ]
  },
  {
   "cell_type": "code",
   "execution_count": null,
   "metadata": {},
   "outputs": [],
   "source": [
    "# import CSV from correct folder\n",
    "# submit participant vars as a player field\n",
    "\n",
    "# main outcomes: \n",
    "## number of draws by treatment (two distributions, one for each treatment; box plot)\n",
    "## payoff by treatment (two distributions, one for each treatment; box plot)\n",
    "## time on task by treatment (two distributions, one for each treatment; box plot)\n",
    "## payoff when stopping the task (two distributions, one for each treatment; box plot)\n",
    "\n",
    "# additional outcomes:\n",
    "## diagnostics: expected payoffs after ten rounds (two distributions, one for each treatment; box plot)\n",
    "## attrition by treatment\n",
    "## errors on understanding questions (by treatment and for each question; calculate number of total errors for each participant to be able to filter participants)\n",
    "## list of feedback\n",
    "## create filters for demographics\n"
   ]
  },
  {
   "cell_type": "markdown",
   "metadata": {},
   "source": []
  }
 ],
 "metadata": {
  "language_info": {
   "name": "python"
  },
  "orig_nbformat": 4
 },
 "nbformat": 4,
 "nbformat_minor": 2
}
